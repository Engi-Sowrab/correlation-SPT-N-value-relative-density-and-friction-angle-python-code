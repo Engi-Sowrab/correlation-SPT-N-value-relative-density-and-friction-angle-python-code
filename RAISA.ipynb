{
  "nbformat": 4,
  "nbformat_minor": 0,
  "metadata": {
    "colab": {
      "provenance": []
    },
    "kernelspec": {
      "name": "python3",
      "display_name": "Python 3"
    },
    "language_info": {
      "name": "python"
    }
  },
  "cells": [
    {
      "cell_type": "code",
      "execution_count": null,
      "metadata": {
        "id": "hYuqiduS6rqw"
      },
      "outputs": [],
      "source": [
        "import numpy as np\n",
        "import matplotlib.pyplot as plt\n",
        "\n",
        "# Define range of SPT N-values\n",
        "N_values = np.arange(1, 51, 1)  # N from 1 to 50\n",
        "\n",
        "# Empirical correlations\n",
        "relative_density = 15 * np.sqrt(N_values)   # Dr (%)\n",
        "friction_angle = 27 + 0.3 * np.sqrt(N_values)  # phi (degrees)\n",
        "\n",
        "# Plot results\n",
        "plt.figure(figsize=(12,5))\n",
        "\n",
        "# Plot Dr vs N\n",
        "plt.subplot(1,2,1)\n",
        "plt.plot(N_values, relative_density, 'b-', linewidth=2)\n",
        "plt.xlabel('SPT N-value')\n",
        "plt.ylabel('Relative Density Dr (%)')\n",
        "plt.title('Relative Density vs SPT N-value')\n",
        "plt.grid(True)\n",
        "\n",
        "# Plot phi vs N\n",
        "plt.subplot(1,2,2)\n",
        "plt.plot(N_values, friction_angle, 'r-', linewidth=2)\n",
        "plt.xlabel('SPT N-value')\n",
        "plt.ylabel('Friction Angle φ (degrees)')\n",
        "plt.title('Friction Angle vs SPT N-value')\n",
        "plt.grid(True)\n",
        "\n",
        "plt.tight_layout()\n",
        "plt.show()\n"
      ]
    }
  ]
}